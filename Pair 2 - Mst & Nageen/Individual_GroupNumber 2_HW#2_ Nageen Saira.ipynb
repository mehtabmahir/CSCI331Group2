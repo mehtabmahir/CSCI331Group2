Script for Presentation:

Hi, everyone. Today, I’m excited to walk you through my top 10 SQL propositions. I’ll explain what each query does and why it’s important in a business context.

------------------------------------------------------------------------------------------------------------------------------------------
1. Orders Placed on Weekends
This query identifies all the orders placed on Saturdays and Sundays.
Why it matters: Businesses can use this to see if weekends are peak times and adjust staffing, promotions, or inventory accordingly.
 
SELECT OrderID, OrderDate, CustomerID, SalespersonPersonID
FROM Sales.Orders
WHERE DATENAME(WEEKDAY, OrderDate) IN ('Saturday', 'Sunday');

-----------------------------------------------------------------------------------------------------------------------------------------
2. Group Customers by Categories
This query groups customers by their categories and counts how many belong to each group.
Why it matters: It helps businesses understand their customer base better, so they can target each group more effectively with specific services or campaigns.

SELECT cc.CustomerCategoryName, COUNT(c.CustomerID) AS TotalCustomers
FROM Sales.Customers c
JOIN Sales.CustomerCategories cc ON c.CustomerCategoryID = cc.CustomerCategoryID
GROUP BY cc.CustomerCategoryName;

------------------------------------------------------------------------------------------------------------------------------------------
3. Products with Zero Quantity on Hand
This one lists all products that are completely out of stock.
Why it matters: It’s essential for inventory management—flagging out-of-stock items helps businesses restock quickly and avoid losing sales.

SELECT si.StockItemID, si.StockItemName
FROM Warehouse.StockItems si
JOIN Warehouse.StockItemHoldings sih ON si.StockItemID = sih.StockItemID
WHERE sih.QuantityOnHand = 0;
--Confirm No Rows with QuantityOnHand = 0
SELECT COUNT(*) AS TotalItems, 
       SUM(CASE WHEN QuantityOnHand = 0 THEN 1 ELSE 0 END) AS ZeroQuantityItems
FROM Warehouse.StockItemHoldings;



------------------------------------------------------------------------------------------------------------------------------------------
4. Orders Delivered on Time
This query checks if orders were delivered by their expected delivery date.
Why it matters: Timely delivery builds trust with customers and shows how well a company’s logistics are performing.


SELECT OrderID, CustomerID, ExpectedDeliveryDate, PickingCompletedWhen AS DeliveryDate
FROM Sales.Orders
WHERE PickingCompletedWhen <= ExpectedDeliveryDate;
  

------------------------------------------------------------------------------------------------------------------------------------------

5. Total Orders and Revenue per Customer
This calculates how many orders each customer placed and how much revenue they brought in.
Why it matters: It helps businesses spot their most loyal or valuable customers and create programs to keep them engaged.

SELECT c.CustomerName, 
       o.CustomerID, 
       COUNT(o.OrderID) AS TotalOrders, 
       SUM(ol.Quantity * ol.UnitPrice) AS TotalRevenue
FROM Sales.Orders o
JOIN Sales.OrderLines ol ON o.OrderID = ol.OrderID
JOIN Sales.Customers c ON o.CustomerID = c.CustomerID
GROUP BY c.CustomerName, o.CustomerID
ORDER BY TotalRevenue DESC;


------------------------------------------------------------------------------------------------------------------------------------------

6. Monthly Sales Summary for 2015
This one summarizes total orders and revenue for each month in 2015.
Why it matters: Knowing which months had the best or worst sales can help businesses plan for seasonal trends and adjust their strategies.



SELECT MONTH(o.OrderDate) AS Month, 
       COUNT(o.OrderID) AS TotalOrders, 
       SUM(ol.Quantity * ol.UnitPrice) AS TotalRevenue
FROM Sales.Orders o
JOIN Sales.OrderLines ol ON o.OrderID = ol.OrderID
WHERE YEAR(o.OrderDate) = 2015
GROUP BY MONTH(o.OrderDate)
ORDER BY Month;

-----------------------------------------------------------------------------------------------------------------------------------------
7. Products with Low Stock Levels
This query identifies products that are running low on inventory, specifically those with fewer than 10 units left.
Why it matters: It prevents stockouts by highlighting items that need to be reordered, keeping the supply chain running smoothly.


SELECT si.StockItemID, 
       si.StockItemName, 
       sih.QuantityOnHand
FROM Warehouse.StockItems si
JOIN Warehouse.StockItemHoldings sih ON si.StockItemID = sih.StockItemID
WHERE sih.QuantityOnHand < 10;

------------------------------------------------------------------------------------------------------------------------------------------
8. Invoices with Discounts Above 10%
This query flags invoices where the discount given exceeded 10%.
Why it matters: It’s helpful for tracking big discounts and analyzing how they impact the company’s revenue or profitability.

SELECT
    ct.CustomerTransactionID,
    ct.CustomerID,
    ct.TransactionAmount,
    (ct.AmountExcludingTax + ct.TaxAmount) AS ExpectedAmount,
    ((ct.AmountExcludingTax + ct.TaxAmount) - ct.TransactionAmount) AS DiscountAmount,
    CASE 
        WHEN (ct.AmountExcludingTax + ct.TaxAmount) = 0 THEN 0
        ELSE (((ct.AmountExcludingTax + ct.TaxAmount) - ct.TransactionAmount) / (ct.AmountExcludingTax + ct.TaxAmount)) * 100
    END AS DiscountPercentage
FROM 
    Sales.CustomerTransactions ct
WHERE 
    (ct.AmountExcludingTax + ct.TaxAmount) > ct.TransactionAmount
ORDER BY 
    DiscountPercentage DESC;

------------------------------------------------------------------------------------------------------------------------------------------
9. Orders with No Delivery Instructions
This query finds orders missing delivery instructions.
Why it matters: Incomplete orders can cause delays, so catching these gaps ensures smoother operations and faster deliveries.

SELECT OrderID, CustomerID, OrderDate
FROM Sales.Orders
WHERE DeliveryInstructions IS NULL;

------------------------------------------------------------------------------------------------------------------------------------------
10. First-Time Customers in the Most Recent Year
This query identifies customers who placed their first-ever order in the most recent year.
Why it matters: Understanding new customer trends can help businesses refine their onboarding process and build loyalty with new clients.



WITH FirstOrders AS (
    SELECT 
        CustomerID,
        MIN(OrderDate) AS FirstOrderDate
    FROM Sales.Orders
    GROUP BY CustomerID
)
SELECT 
    c.CustomerID,
    c.CustomerName,
    fo.FirstOrderDate
FROM FirstOrders fo
JOIN Sales.Customers c ON fo.CustomerID = c.CustomerID
WHERE YEAR(fo.FirstOrderDate) = (SELECT MAX(YEAR(OrderDate)) FROM Sales.Orders)
ORDER BY fo.FirstOrderDate;

------------------------------------------------------------------------------------------------------------------------------------------

How the NACE Competencies Helped in Creating the MP4
Let me share how the NACE Competencies came into play while creating this project:

Critical Thinking/Problem Solving: Each query was designed to address a specific challenge—like tracking delivery performance or understanding customer segments. We had to think critically to ensure the queries delivered actionable insights.

Teamwork/Collaboration: This project wasn’t done alone. Working with my team, we brainstormed ideas, refined each other’s queries, and supported one another to make sure everything worked seamlessly.

Digital Technology: Tools like SQL and Azure Data Studio were essential in building and testing these queries. Using these platforms showed our ability to work efficiently with digital tools.

Communication: Explaining the purpose of each query and why it’s important, both in writing and presentations like this one, required clear communication to make the technical work understandable.

Professionalism/Work Ethic: Meeting deadlines, testing every query for accuracy, and ensuring the project met expectations showed a strong work ethic and attention to detail.

Career & Self-Development: This project helped me sharpen my SQL skills and understand how to apply them to solve real-world business problems. These skills are directly relevant to future roles in analytics or business intelligence.

----------------------------------------------------------------------------------------------------------------------------------------

Closing Statement: Each of these queries addresses real challenges that businesses face, from managing inventory to tracking customer behavior. This project showed how SQL can turn raw data into meaningful insights that drive better decisions. Thank you for your time—I’m happy to take any questions! 
-----------------------------------------------------------------------------------------------------------------------------------------
footnote:-
i uesd chatgpt to make it more understandable .