{
 "cells": [
  {
   "cell_type": "markdown",
   "id": "6a5c2f04",
   "metadata": {},
   "source": [
    "# WideWorldImporters SQL Queries and Explanations"
   ]
  },
  {
   "cell_type": "markdown",
   "id": "a29fb953",
   "metadata": {},
   "source": [
    "## Introduction"
   ]
  },
  {
   "cell_type": "markdown",
   "id": "f10306b9",
   "metadata": {},
   "source": [
    "Hi, this is Rahi, and in this notebook, I’ll walk you through my 10 SQL propositions and queries based on the WideWorldImporters database. I’ll explain the purpose of each query, why it’s special, and how the NACE competencies helped me create this project."
   ]
  },
  {
   "cell_type": "markdown",
   "id": "78b0e3a5",
   "metadata": {},
   "source": [
    "## Query 1: Orders Placed in December"
   ]
  },
  {
   "cell_type": "code",
   "execution_count": null,
   "id": "c0dd06a3",
   "metadata": {},
   "outputs": [],
   "source": [
    "SELECT OrderID, OrderDate, CustomerID\n",
    "FROM Sales.Orders\n",
    "WHERE MONTH(OrderDate) = 12;"
   ]
  },
  {
   "cell_type": "markdown",
   "id": "dbc2c70b",
   "metadata": {},
   "source": [
    "**Purpose:** This query retrieves all orders placed during the month of December.\n",
    "\n",
    "**Why It’s Special:** December is a big month for businesses because of the holidays. This query helps find trends during that time and shows how well the business did. It’s also useful for planning things like inventory and marketing for future holidays."
   ]
  },
  {
   "cell_type": "markdown",
   "id": "682d111f",
   "metadata": {},
   "source": [
    "## Query 2: Top 5 Customers with the Most Orders"
   ]
  },
  {
   "cell_type": "code",
   "execution_count": null,
   "id": "c6eab943",
   "metadata": {},
   "outputs": [],
   "source": [
    "SELECT TOP 5 c.CustomerID, c.CustomerName, COUNT(o.OrderID) AS TotalOrders\n",
    "FROM Sales.Orders o\n",
    "JOIN Sales.Customers c ON o.CustomerID = c.CustomerID\n",
    "GROUP BY c.CustomerID, c.CustomerName\n",
    "ORDER BY TotalOrders DESC;"
   ]
  },
  {
   "cell_type": "markdown",
   "id": "6af66da4",
   "metadata": {},
   "source": [
    "**Purpose:** This query ranks customers by their order volume to find the most active ones.\n",
    "\n",
    "**Why It’s Special:** Active customers are really important for any business. Finding these customers helps businesses create loyalty programs and promotions just for them, building better relationships and increasing sales."
   ]
  },
  {
   "cell_type": "markdown",
   "id": "7e176c3d",
   "metadata": {},
   "source": [
    "## Query 3: Invoices with the Largest Total Items"
   ]
  },
  {
   "cell_type": "code",
   "execution_count": null,
   "id": "400e7e89",
   "metadata": {},
   "outputs": [],
   "source": [
    "SELECT TOP 5 InvoiceID, TotalDryItems, TotalChillerItems, (TotalDryItems + TotalChillerItems) AS TotalItems\n",
    "FROM Sales.Invoices\n",
    "ORDER BY TotalItems DESC;"
   ]
  },
  {
   "cell_type": "markdown",
   "id": "27ca9801",
   "metadata": {},
   "source": [
    "**Purpose:** This query adds up the TotalDryItems and TotalChillerItems to find bulk orders.\n",
    "\n",
    "**Why It’s Special:** Bulk orders are really important because they usually come from big clients or key sales. By spotting these invoices, businesses can focus on keeping their best customers happy and prepare for similar big orders in the future."
   ]
  },
  {
   "cell_type": "markdown",
   "id": "fc70c0ad",
   "metadata": {},
   "source": [
    "## Query 4: Customers with Orders Missing Payments"
   ]
  },
  {
   "cell_type": "code",
   "execution_count": null,
   "id": "6bd0d6a6",
   "metadata": {},
   "outputs": [],
   "source": [
    "SELECT TOP 5 o.CustomerID, COUNT(o.OrderID) AS IncompleteOrders\n",
    "FROM Sales.Orders o\n",
    "WHERE o.DeliveryInstructions IS NULL OR o.DeliveryInstructions = ''\n",
    "GROUP BY o.CustomerID\n",
    "ORDER BY IncompleteOrders DESC;"
   ]
  },
  {
   "cell_type": "markdown",
   "id": "9540b460",
   "metadata": {},
   "source": [
    "**Purpose:** This query finds orders that lack critical information, like delivery instructions, that could cause delays.\n",
    "\n",
    "**Why It’s Special:** Incomplete orders can cause problems and make customers unhappy. This query helps businesses fix these issues early, making the process run more smoothly."
   ]
  },
  {
   "cell_type": "markdown",
   "id": "ce5681f2",
   "metadata": {},
   "source": [
    "## Query 5: Invoices Handled by Each Salesperson"
   ]
  },
  {
   "cell_type": "code",
   "execution_count": null,
   "id": "e614956f",
   "metadata": {},
   "outputs": [],
   "source": [
    "SELECT SalespersonPersonID, COUNT(InvoiceID) AS TotalInvoicesHandled\n",
    "FROM Sales.Invoices\n",
    "GROUP BY SalespersonPersonID\n",
    "ORDER BY TotalInvoicesHandled DESC;"
   ]
  },
  {
   "cell_type": "markdown",
   "id": "57c6460f",
   "metadata": {},
   "source": [
    "**Purpose:** This query calculates the total invoices managed by each salesperson, providing insight into their performance.\n",
    "\n",
    "**Why It’s Special:** This query is a great tool for evaluating workload distribution. It can help managers recognize high-performing salespeople and ensure a balanced workload across the team."
   ]
  },
  {
   "cell_type": "markdown",
   "id": "7f2fd8a9",
   "metadata": {},
   "source": [
    "## Query 6: Customers Who Haven’t Purchased Anything in the Last 90 Days"
   ]
  },
  {
   "cell_type": "code",
   "execution_count": null,
   "id": "2d50b81e",
   "metadata": {},
   "outputs": [],
   "source": [
    "SELECT CustomerID, MAX(OrderDate) AS LastOrderDate\n",
    "FROM Sales.Orders\n",
    "GROUP BY CustomerID\n",
    "HAVING MAX(OrderDate) < DATEADD(DAY, -90, GETDATE());"
   ]
  },
  {
   "cell_type": "markdown",
   "id": "40e44096",
   "metadata": {},
   "source": [
    "**Purpose:** This query finds customers who haven’t made any purchases recently.\n",
    "\n",
    "**Why It’s Special:** Inactive customers represent lost revenue opportunities. Businesses can use this query to design re-engagement campaigns and bring these customers back, which is often more cost-effective than acquiring new ones."
   ]
  },
  {
   "cell_type": "markdown",
   "id": "cd509032",
   "metadata": {},
   "source": [
    "## Query 7: Most Frequently Used Delivery Methods"
   ]
  },
  {
   "cell_type": "code",
   "execution_count": null,
   "id": "8cac762e",
   "metadata": {},
   "outputs": [],
   "source": [
    "SELECT DeliveryMethodID, COUNT(InvoiceID) AS UsageCount\n",
    "FROM Sales.Invoices\n",
    "GROUP BY DeliveryMethodID\n",
    "ORDER BY UsageCount DESC;"
   ]
  },
  {
   "cell_type": "markdown",
   "id": "c155c240",
   "metadata": {},
   "source": [
    "**Purpose:** This query analyzes delivery trends by grouping orders by their delivery method.\n",
    "\n",
    "**Why It’s Special:** This query helps businesses optimize logistics. By understanding which delivery methods are most popular, companies can streamline their processes and ensure customer satisfaction."
   ]
  },
  {
   "cell_type": "markdown",
   "id": "1b027d01",
   "metadata": {},
   "source": [
    "## Query 8: Products That Have Never Been Sold"
   ]
  },
  {
   "cell_type": "code",
   "execution_count": null,
   "id": "05650da2",
   "metadata": {},
   "outputs": [],
   "source": [
    "SELECT COUNT(*) AS TotalProducts\n",
    "FROM Warehouse.StockItems;\n",
    "\n",
    "SELECT COUNT(DISTINCT StockItemID) AS SoldProducts\n",
    "FROM Sales.OrderLines;\n",
    "\n",
    "SELECT \n",
    "    (SELECT COUNT(*) FROM Warehouse.StockItems) -\n",
    "    (SELECT COUNT(DISTINCT StockItemID) FROM Sales.OrderLines) AS UnsoldProducts;"
   ]
  },
  {
   "cell_type": "markdown",
   "id": "7848f866",
   "metadata": {},
   "source": [
    "**Purpose:** This query compares all available products with those that have been sold to identify unsold inventory.\n",
    "\n",
    "**Why It’s Special:** Unsold products can tie up valuable space and resources. By identifying these items, businesses can make decisions about promoting, discounting, or removing them."
   ]
  },
  {
   "cell_type": "markdown",
   "id": "42f80363",
   "metadata": {},
   "source": [
    "## Query 9: Days with the Most Sales Activity"
   ]
  },
  {
   "cell_type": "code",
   "execution_count": null,
   "id": "a6d80db2",
   "metadata": {},
   "outputs": [],
   "source": [
    "SELECT TOP 5 CONVERT(DATE, OrderDate) AS OrderDay, COUNT(OrderID) AS TotalOrders\n",
    "FROM Sales.Orders\n",
    "GROUP BY CONVERT(DATE, OrderDate)\n",
    "ORDER BY TotalOrders DESC;"
   ]
  },
  {
   "cell_type": "markdown",
   "id": "4470ee98",
   "metadata": {},
   "source": [
    "**Purpose:** This query groups orders by day and counts how many were placed on each date, identifying the busiest days.\n",
    "\n",
    "**Why It’s Special:** Knowing the busiest sales days helps businesses prepare resources like inventory and staffing. It’s also useful for analyzing sales spikes and planning future promotions."
   ]
  },
  {
   "cell_type": "markdown",
   "id": "e491f02d",
   "metadata": {},
   "source": [
    "## Query 10: Sales Trends by Month"
   ]
  },
  {
   "cell_type": "code",
   "execution_count": null,
   "id": "b0a21127",
   "metadata": {},
   "outputs": [],
   "source": [
    "SELECT YEAR(OrderDate) AS OrderYear, MONTH(OrderDate) AS OrderMonth, COUNT(OrderID) AS TotalOrders\n",
    "FROM Sales.Orders\n",
    "GROUP BY YEAR(OrderDate), MONTH(OrderDate)\n",
    "ORDER BY OrderYear DESC, OrderMonth DESC;"
   ]
  },
  {
   "cell_type": "markdown",
   "id": "d7457b78",
   "metadata": {},
   "source": [
    "**Purpose:** This query groups orders by month and year to identify patterns over time.\n",
    "\n",
    "**Why It’s Special:** Long-term sales trends help businesses plan for seasonality and forecast future performance. It allows for better budgeting, marketing, and inventory management."
   ]
  },
  {
   "cell_type": "markdown",
   "id": "ec7e8827",
   "metadata": {},
   "source": [
    "## NACE Career Readiness Competencies"
   ]
  },
  {
   "cell_type": "markdown",
   "id": "cdc2da54",
   "metadata": {},
   "source": [
    "The NACE Career Readiness Competencies helped me create this MP4 project in many ways:\n",
    "\n",
    "1. **Critical Thinking:** Creating these SQL queries meant looking at the database, finding business problems, and coming up with useful solutions.\n",
    "\n",
    "2. **Communication:** I structured this notebook to explain each query clearly and simply so that even non-technical viewers can understand it.\n",
    "\n",
    "3. **Teamwork:** Working with my partner helped us share ideas and test the queries together.\n",
    "\n",
    "4. **Technology:** Using SQL and tools like Azure Data Studio allowed me to confidently test and demonstrate these queries.\n",
    "\n",
    "5. **Professionalism:** Organizing and presenting this notebook in a professional way reflects my commitment to meeting assignment standards.\n",
    "\n",
    "6. **Leadership:** I worked with my partner to divide tasks, meet deadlines, and ensure high-quality work.\n",
    "\n",
    "7. **Equity and Inclusion:** While working with my partner, I valued and respected their perspective, which helped us create a stronger final product.\n",
    "\n",
    "8. **Career and Self-Development:** This project allowed me to improve my SQL and teamwork skills, while preparing for future roles in data analysis.\n",
    "\n",
    "---\n",
    "\n",
    "Thank you for reviewing my work. I hope this notebook shows how SQL can turn data into valuable business insights."
   ]
  }
 ],
 "metadata": {},
 "nbformat": 4,
 "nbformat_minor": 5
}
