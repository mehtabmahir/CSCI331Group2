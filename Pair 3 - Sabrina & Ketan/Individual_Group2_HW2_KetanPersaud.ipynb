{
    "metadata": {
        "kernelspec": {
            "name": "SQL",
            "display_name": "SQL",
            "language": "sql"
        },
        "language_info": {
            "name": "sql",
            "version": ""
        }
    },
    "nbformat_minor": 2,
    "nbformat": 4,
    "cells": [
        {
            "cell_type": "markdown",
            "source": [
                "# 1) First Proposition\n",
                "\n",
                "Using the database Sales.orders I queried the all the orders from the Customer with ID number 1. It shows the OrderID and when he placed his orders."
            ],
            "metadata": {
                "language": "sql",
                "azdata_cell_guid": "065c2d2c-9630-4b48-9316-331d0ec3aad5"
            },
            "attachments": {}
        },
        {
            "cell_type": "code",
            "source": [
                "USE WideWorldImporters;\n",
                "\n",
                "SELECT CustomerID, OrderDate, OrderID\n",
                "FROM Sales.Orders\n",
                "WHERE CustomerID = 1\n",
                "GROUP BY CustomerID, OrderDate, OrderID\n",
                "ORDER BY CustomerID, OrderDate;"
            ],
            "metadata": {
                "azdata_cell_guid": "b48e9ea1-bae1-4d65-a6d1-e8d96e07793b",
                "language": "sql",
                "tags": []
            },
            "outputs": [],
            "execution_count": null
        },
        {
            "cell_type": "markdown",
            "source": [
                "# 2) Second Proposition\n",
                "\n",
                "Using the database Purchsing.Suppliers I wanted to find those who had only 2 weeks to complete their payments. So I queried the names, postalcodes, what bank branch, the payment dats, and the phone number given. This way we get the name and phone number to send a reminder to make their payment. I included the postal code thinking that if they don't answer their phones we can send letters and reach out to their banks. Ordering by Payment days sees who need to be talked to first."
            ],
            "metadata": {
                "language": "sql",
                "azdata_cell_guid": "a8b83e03-9201-486d-b494-1405824f2ba7"
            },
            "attachments": {}
        },
        {
            "cell_type": "code",
            "source": [
                "USE WideWorldImporters;\r\n",
                "SELECT SupplierName, PostalPostalCode, BankAccountBranch, PaymentDays, PhoneNumber\r\n",
                "FROM Purchasing.Suppliers\r\n",
                "WHERE PaymentDays <= 14\r\n",
                "ORDER BY PaymentDays"
            ],
            "metadata": {
                "azdata_cell_guid": "1e0400e1-47e2-40d6-ab48-0ca436154e81",
                "language": "sql"
            },
            "outputs": [],
            "execution_count": null
        },
        {
            "cell_type": "markdown",
            "source": [
                "# 3) Third Proposition\n",
                "\n",
                "In this query we look into database Sales.CustomerTransactions. We are looking at Customer with ID number 401. We wanted to the purchases that are $300 or more that he purchased on the day specific day 01-01-2013. I ordered by transcation amount so that we can see it from his least expensive purchase to the most expensive purchase."
            ],
            "metadata": {
                "language": "sql",
                "azdata_cell_guid": "fc768112-1d15-405b-874b-e8fbf9e73536"
            },
            "attachments": {}
        },
        {
            "cell_type": "code",
            "source": [
                "USE WideWorldImporters;\r\n",
                "SELECT CustomerID, TransactionDate, TransactionAmount \r\n",
                "FROM Sales.CustomerTransactions\r\n",
                "WHERE CustomerID =  401 AND TransactionDate = '20130101' AND TransactionAmount >= 300\r\n",
                "ORDER BY TransactionAmount"
            ],
            "metadata": {
                "azdata_cell_guid": "26462f84-f5f8-41e6-b28e-493039c99e54",
                "language": "sql"
            },
            "outputs": [],
            "execution_count": null
        },
        {
            "cell_type": "markdown",
            "source": [
                "# 4) Fourth Proposition\n",
                "\n",
                "This query was made to find the total prices of items after tax. First we add OrderID, unit price, tax rate. quantity, the unit price after tax, and the total price depending on how much you buy. To get the after tax amount I multiplied the tax rate with the unit price and added it back into the unit price. With that I then multipled the after tax price with the quantity to get the total price per order."
            ],
            "metadata": {
                "language": "sql",
                "azdata_cell_guid": "5538b767-734b-4b99-9902-c102bb0db166"
            },
            "attachments": {}
        },
        {
            "cell_type": "code",
            "source": [
                "USE WideWorldImporters;\r\n",
                "SELECT OrderID, UnitPrice, TaxRate, Quantity, UnitPrice + (UnitPrice * TaxRate) AS AfterTax, Quantity * (UnitPrice + (UnitPrice * TaxRate) ) AS TotalPrice\r\n",
                "FROM Sales.OrderLines\r\n",
                "ORDER BY OrderID"
            ],
            "metadata": {
                "azdata_cell_guid": "81302499-7623-4328-8135-48d111efa551",
                "language": "sql"
            },
            "outputs": [],
            "execution_count": null
        },
        {
            "cell_type": "markdown",
            "source": [
                "# 5) Fifth Propostion\n",
                "\n",
                "The purpose of this query was to check orders for how many cool and dry items in them. So I queried total chiller items and total dry items. I added the two to get the total amount of items in the order. Then I also added the delivery instructions to see where they were being taken. I specified that I wanted to see only deliveries made to shops."
            ],
            "metadata": {
                "language": "sql",
                "azdata_cell_guid": "78efaffc-bfe9-46e7-8424-dd463802d30e"
            },
            "attachments": {}
        },
        {
            "cell_type": "code",
            "source": [
                "USE WideWorldImporters;\r\n",
                "SELECT OrderID, TotalChillerItems, TotalDryItems,TotalChillerItems + TotalDryItems AS TotalItems, DeliveryInstructions\r\n",
                "FROM Sales.Invoices\r\n",
                "WHERE DeliveryInstructions Like N'Shop%'\r\n",
                "ORDER BY TotalItems DESC"
            ],
            "metadata": {
                "azdata_cell_guid": "a7b8a104-c9fe-478f-a32d-f52887dfcdf1",
                "language": "sql"
            },
            "outputs": [],
            "execution_count": null
        },
        {
            "cell_type": "markdown",
            "source": [
                "# 6) Sixth Proposition\n",
                "\n",
                "This query shows the OrderID, Quantity, UnitPrice, and the total amount of cost before tax. I added the column named type to tell whether a big purchase was made. A purchase is deemed big if the quantity itself is 50 items or more or the total price is over $100."
            ],
            "metadata": {
                "language": "sql",
                "azdata_cell_guid": "03138b2b-8d56-4dec-bef5-13f32e4b361f"
            },
            "attachments": {}
        },
        {
            "cell_type": "code",
            "source": [
                "USE WideWorldImporters;\r\n",
                "SELECT OrderID, Quantity, UnitPrice, Quantity * UnitPrice AS Total,\r\n",
                "    CASE \r\n",
                "        WHEN Quantity >= 50 THEN 'BIG PURCHASE'\r\n",
                "        WHEN Quantity * UnitPrice >= 100 THEN 'BIG PURCHASE'\r\n",
                "        ELSE 'NORMAL PURCHASE'\r\n",
                "    END AS Type\r\n",
                "FROM Sales.OrderLines\r\n",
                "ORDER BY OrderID"
            ],
            "metadata": {
                "azdata_cell_guid": "f3651a54-14d0-4bde-bc94-6db384b1b808",
                "language": "sql"
            },
            "outputs": [],
            "execution_count": null
        },
        {
            "cell_type": "markdown",
            "source": [
                "# 7) Seventh Proposition\n",
                "\n",
                "This proposition requires the query of CustomerIDs and their Transaction Amounts. It sorts the transaction amount is ascending order by customer. This uses partition by to partition the customer IDs so that we can see the statements for each customer. We are only looking at customers from ids 800 to 900."
            ],
            "metadata": {
                "language": "sql",
                "azdata_cell_guid": "5ebaedbc-9b6a-45b7-81b4-83be434dbc87"
            },
            "attachments": {}
        },
        {
            "cell_type": "code",
            "source": [
                "USE WideWorldImporters;\r\n",
                "SELECT CustomerID, TransactionAmount, ROW_NUMBER() OVER(PARTITION BY CustomerID ORDER BY TransactionAmount) AS rownum\r\n",
                "FROM Sales.CustomerTransactions\r\n",
                "Where CustomerID BETWEEN 800 and 900\r\n",
                "Group BY CustomerID, TransactionAmount\r\n",
                "ORDER BY CustomerID"
            ],
            "metadata": {
                "azdata_cell_guid": "dfeed728-ff06-4611-843c-f84f7f9231c0",
                "language": "sql"
            },
            "outputs": [
                {
                    "output_type": "error",
                    "evalue": "Msg 208, Level 16, State 1, Line 1\r\nInvalid object name 'Sales.CustomerTransactions'.",
                    "ename": "",
                    "traceback": []
                },
                {
                    "output_type": "display_data",
                    "data": {
                        "text/html": "Total execution time: 00:00:00.004"
                    },
                    "metadata": {}
                }
            ],
            "execution_count": 1
        },
        {
            "cell_type": "markdown",
            "source": [
                "# 8) Eighth Proposition\n",
                "\n",
                "This query shows the city names, city IDs and their populations. Its purpose to show the population in New York by using the Like clause."
            ],
            "metadata": {
                "language": "sql",
                "azdata_cell_guid": "63c86f08-6241-4817-a186-b15195a02761"
            },
            "attachments": {}
        },
        {
            "cell_type": "code",
            "source": [
                "USE WideWorldImporters;\r\n",
                "SELECT CityName, LatestRecordedPopulation, CityID\r\n",
                "FROM Application.Cities\r\n",
                "WHERE CityName LIKE N'New York%'"
            ],
            "metadata": {
                "azdata_cell_guid": "60ba40c2-939b-4c83-a987-5838dd684ace",
                "language": "sql"
            },
            "outputs": [],
            "execution_count": null
        },
        {
            "cell_type": "markdown",
            "source": [
                "# 9) Nineth Proposition \n",
                "\n",
                "Using the Sale.Orders we can find a customers ID, their OrderID, and when they ordered it. Since it is a lot of date it makes it easier to look at with an offset. Right now the current offset is at 0 showing the next 20 rows."
            ],
            "metadata": {
                "language": "sql",
                "azdata_cell_guid": "31dabe25-fc47-4434-86fa-093e14d236b9"
            },
            "attachments": {}
        },
        {
            "cell_type": "code",
            "source": [
                "USE WideWorldImporters;\r\n",
                "SELECT CustomerID, OrderID, OrderDate\r\n",
                "FROM Sales.Orders \r\n",
                "GROUP BY CustomerID, OrderID, OrderDate\r\n",
                "ORDER BY OrderDate DESC\r\n",
                "OFFSET 0 ROWS FETCH NEXT 20 ROWS ONLY;"
            ],
            "metadata": {
                "azdata_cell_guid": "d17b2e9b-7fab-4a12-bf2c-9a6b45b1e46e",
                "language": "sql"
            },
            "outputs": [],
            "execution_count": null
        },
        {
            "cell_type": "markdown",
            "source": [
                "# 10) Tenth Proposition\n",
                "\n",
                "Using the Sale.Orders we can find a customers ID, order date, and expected delivery date.  I partition the CustomerID and ordered the partitions by the order dates. This lets us see what a customer orders and when they ordered it. Then with the order date we can also see when their order is expected to arrive."
            ],
            "metadata": {
                "language": "sql",
                "azdata_cell_guid": "df6939fe-f275-40a3-8c36-d61cd9769c5a"
            },
            "attachments": {}
        },
        {
            "cell_type": "code",
            "source": [
                "USE WideWorldImporters;\r\n",
                "SELECT Distinct CustomerID, OrderDate, ExpectedDeliveryDate, ROW_NUMBER() OVER(PARTITION BY CustomerID ORDER BY OrderDate) AS rownum\r\n",
                "FROM Sales.Orders\r\n",
                "GROUP BY CustomerID, OrderDate, ExpectedDeliveryDate\r\n",
                "ORDER BY CustomerID"
            ],
            "metadata": {
                "azdata_cell_guid": "854aa255-7bd4-43fd-b946-186859845f5a",
                "language": "sql"
            },
            "outputs": [],
            "execution_count": null
        }
    ]
}