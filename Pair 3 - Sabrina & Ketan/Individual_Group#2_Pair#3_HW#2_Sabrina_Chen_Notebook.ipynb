{
    "metadata": {
        "kernelspec": {
            "name": "SQL",
            "display_name": "SQL",
            "language": "sql"
        },
        "language_info": {
            "name": "sql",
            "version": ""
        }
    },
    "nbformat_minor": 2,
    "nbformat": 4,
    "cells": [
        {
            "cell_type": "markdown",
            "source": [
                "Proposition #1\n",
                "\n",
                "Return the population of all cities. This is to see how many people, and thus potential customers, are in each city. (use Dimension.City)"
            ],
            "metadata": {
                "azdata_cell_guid": "fc2fdc3e-46a2-4ecf-91d5-895683c84055"
            },
            "attachments": {}
        },
        {
            "cell_type": "code",
            "source": [
                "USE WideWorldImportersDW\n",
                "\n",
                "SELECT City, Max([Latest Recorded Population]) as Population\n",
                "FROM Dimension.City\n",
                "GROUP BY City\n",
                "ORDER BY Population DESC"
            ],
            "metadata": {
                "azdata_cell_guid": "626c1fc4-d83d-4cd8-9878-f361a3ffedfd",
                "language": "sql",
                "tags": []
            },
            "outputs": [],
            "execution_count": null
        },
        {
            "cell_type": "markdown",
            "source": [
                "Proposition #2\n",
                "\n",
                "<span style=\"font-family: -apple-system, BlinkMacSystemFont, sans-serif; color: var(--vscode-foreground);\">Return all employees that are salespeople to determine if more salespeople are needed to promote WWI and sell products or services to the customer.</span> (use Dimension.Employee)"
            ],
            "metadata": {
                "language": "sql",
                "azdata_cell_guid": "5fc74904-2988-4d47-ab2c-bbcbe7e4b82a"
            },
            "attachments": {}
        },
        {
            "cell_type": "code",
            "source": [
                "USE WideWorldImportersDW\n",
                "\n",
                "SELECT [WWI Employee ID] as empid, Employee\n",
                "FROM Dimension.Employee\n",
                "WHERE [Is Salesperson] = 1\n",
                "GROUP BY [WWI Employee ID], Employee\n",
                "ORDER BY [empid]"
            ],
            "metadata": {
                "language": "sql",
                "azdata_cell_guid": "c67fcaae-91e7-4191-a74c-d179ccbbf2e7",
                "tags": []
            },
            "outputs": [],
            "execution_count": null
        },
        {
            "cell_type": "markdown",
            "source": [
                "Proposition #3\n",
                "\n",
                "Return the top 3 postal codes that have the most amount of customers to see what areas WWI should especially focus on doing buisness for. (use Dimension.Customer)"
            ],
            "metadata": {
                "language": "sql",
                "azdata_cell_guid": "555f74d5-20a5-4568-83d9-15b30fec5708"
            },
            "attachments": {}
        },
        {
            "cell_type": "code",
            "source": [
                "USE WideWorldImportersDW\n",
                "\n",
                "SELECT TOP 3 [Postal Code], COUNT([Postal Code]) as 'Number of Customers'\n",
                "FROM Dimension.Customer\n",
                "GROUP BY [Postal Code]\n",
                "ORDER BY COUNT([Postal Code]) DESC"
            ],
            "metadata": {
                "language": "sql",
                "azdata_cell_guid": "74560810-2388-435a-860e-685add37e0c6"
            },
            "outputs": [],
            "execution_count": null
        },
        {
            "cell_type": "markdown",
            "source": [
                "Proposition #4\n",
                "\n",
                "Return a list of suppliers (with frequency of the suppliers in descending order). This is to see who provides WWI with items the most often. (use Dimension.Supplier)"
            ],
            "metadata": {
                "language": "sql",
                "azdata_cell_guid": "aeecc364-7354-4655-9114-9723d68ed2c5"
            },
            "attachments": {}
        },
        {
            "cell_type": "code",
            "source": [
                "USE WideWorldImportersDW\n",
                "\n",
                "SELECT Supplier, COUNT(Supplier) as 'Supply Num'\n",
                "FROM Dimension.Supplier\n",
                "GROUP BY Supplier\n",
                "ORDER BY COUNT(Supplier) DESC"
            ],
            "metadata": {
                "language": "sql",
                "azdata_cell_guid": "cd4370d5-eef0-4550-a15b-7f76aa52f0df"
            },
            "outputs": [],
            "execution_count": null
        },
        {
            "cell_type": "markdown",
            "source": [
                "Proposition #5\n",
                "\n",
                "Return the top 10 highest amount of different items in descending order. This is to see what items WWI has the most of and thus what should probably be prioritizes to sell out. (use Dimension.Stock Item)"
            ],
            "metadata": {
                "language": "sql",
                "azdata_cell_guid": "f7aa6316-25a3-4fc9-aab8-d6c548d2cb6c"
            },
            "attachments": {}
        },
        {
            "cell_type": "code",
            "source": [
                "USE WideWorldImportersDW\n",
                "\n",
                "SELECT TOP 10 COUNT([WWI Stock Item ID]) as 'Stock Quantity', [Stock Item]\n",
                "FROM Dimension.[Stock Item]\n",
                "GROUP BY [WWI Stock Item ID], [Stock Item]\n",
                "ORDER BY COUNT([WWI Stock Item ID]) DESC"
            ],
            "metadata": {
                "language": "sql",
                "azdata_cell_guid": "66feff80-6e0e-407e-a2c9-af55233d891e",
                "tags": []
            },
            "outputs": [],
            "execution_count": null
        },
        {
            "cell_type": "markdown",
            "source": [
                "Proposition #6\n",
                "\n",
                "Return the contact info and postal code of customer #71. This is to know where to ship the customer's purchase to and contact them that they should've received their purchase. (use Dimension.Customer)"
            ],
            "metadata": {
                "language": "sql",
                "azdata_cell_guid": "e778676d-98cd-4c55-aae6-0d5e4ac486dd"
            },
            "attachments": {}
        },
        {
            "cell_type": "code",
            "source": [
                "USE WideWorldImportersDW\n",
                "\n",
                "SELECT DISTINCT Customer, [WWI Customer ID], [Primary Contact], [Postal Code]\n",
                "FROM Dimension.Customer\n",
                "WHERE [WWI Customer ID] = 71"
            ],
            "metadata": {
                "language": "sql",
                "azdata_cell_guid": "fbf2c5b9-3631-4bb1-9676-cdf25eca5066"
            },
            "outputs": [],
            "execution_count": null
        },
        {
            "cell_type": "markdown",
            "source": [
                "Proposition #7\n",
                "\n",
                "Return all items whose last stocktake quantities (counting of stocks) are below the reorder level (threshold of when to replenish stocks). This is to see what items need to be restocked. (use Fact.Stock Holding)"
            ],
            "metadata": {
                "language": "sql",
                "azdata_cell_guid": "df39b6fc-770d-447a-b599-e58c6afb3263"
            },
            "attachments": {}
        },
        {
            "cell_type": "code",
            "source": [
                "USE WideWorldImportersDW\n",
                "\n",
                "SELECT [Stock Item Key], [Last Stocktake Quantity], [Reorder Level]\n",
                "FROM Fact.[Stock Holding]\n",
                "WHERE [Last Stocktake Quantity] < [Reorder Level]\n",
                "ORDER BY [Quantity On Hand] ASC"
            ],
            "metadata": {
                "language": "sql",
                "azdata_cell_guid": "4b2129a1-ad94-4b52-8db2-5534b8ca2e74"
            },
            "outputs": [],
            "execution_count": null
        },
        {
            "cell_type": "markdown",
            "source": [
                "Proposition #8\n",
                "\n",
                "Return all of the orders (in descending date order) of customer #71 and each order's details. This is to provide info on a customer's past purchases. (use Fact.Order)"
            ],
            "metadata": {
                "language": "sql",
                "azdata_cell_guid": "21895380-1559-4fd5-9a09-9beeb08cca6c"
            },
            "attachments": {}
        },
        {
            "cell_type": "code",
            "source": [
                "USE WideWorldImportersDW\n",
                "\n",
                "SELECT [Order Key], [Stock Item Key], [Order Date Key] as 'Order Date', [Picked Date Key] as 'Picked Date', [Description], [Total Including Tax]\n",
                "FROM Fact.[Order]\n",
                "WHERE [Customer Key] = 71\n",
                "ORDER BY 'Order Date' DESC"
            ],
            "metadata": {
                "language": "sql",
                "azdata_cell_guid": "161a01e2-0c78-4a49-acf3-36a30396d9ec"
            },
            "outputs": [],
            "execution_count": null
        },
        {
            "cell_type": "markdown",
            "source": [
                "Proposition #9 \n",
                "\n",
                "Return the start and end date of how long all employees have been at WWI. It's important to know how long an employee has been with the company. (use Dimension.Employee)"
            ],
            "metadata": {
                "language": "sql",
                "azdata_cell_guid": "12aa6060-7ebd-42e9-b2c2-f7dffda0ab5d"
            },
            "attachments": {}
        },
        {
            "cell_type": "code",
            "source": [
                "USE WideWorldImportersDW\n",
                "\n",
                "SELECT [WWI Employee ID] as empid, MIN([Valid From]) as 'Start Date', MAX([Valid To]) as 'End Date'\n",
                "FROM Dimension.[Employee]\n",
                "WHERE [Valid To] != '9999-12-31 23:59:59.9999999'\n",
                "GROUP BY [WWI Employee ID]\n",
                "ORDER BY empid ASC"
            ],
            "metadata": {
                "language": "sql",
                "azdata_cell_guid": "014eb504-04ee-4d95-83f7-b499c4de7931"
            },
            "outputs": [],
            "execution_count": null
        },
        {
            "cell_type": "markdown",
            "source": [
                "Proposition #10\n",
                "\n",
                "Return a list of the top 20 most expensive items that can be sold. (use Fact.Sale)"
            ],
            "metadata": {
                "language": "sql",
                "azdata_cell_guid": "9bb49243-ace1-4154-ba91-0c8f6eb28494"
            },
            "attachments": {}
        },
        {
            "cell_type": "code",
            "source": [
                "USE WideWorldImportersDW\n",
                "\n",
                "SELECT TOP 20 [Stock Item Key], MAX([Total Including Tax]) as 'Total with Tax', MAX([Total Excluding Tax]) as 'Total without Tax', MAX([Unit Price]) as 'Unit Price', MAX([Tax Rate]) as 'Tax Rate'\n",
                "FROM Fact.[Sale]\n",
                "GROUP BY [Stock Item Key]\n",
                "ORDER BY 'Total with Tax' DESC, 'Total without Tax' DESC, 'Unit Price' DESC"
            ],
            "metadata": {
                "language": "sql",
                "azdata_cell_guid": "9a64289c-1adb-40ed-9013-08cd6f55172f"
            },
            "outputs": [
                {
                    "output_type": "display_data",
                    "data": {
                        "text/html": "(20 rows affected)"
                    },
                    "metadata": {}
                },
                {
                    "output_type": "display_data",
                    "data": {
                        "text/html": "Total execution time: 00:00:00.028"
                    },
                    "metadata": {}
                },
                {
                    "output_type": "execute_result",
                    "metadata": {},
                    "execution_count": 12,
                    "data": {
                        "application/vnd.dataresource+json": {
                            "schema": {
                                "fields": [
                                    {
                                        "name": "Stock Item Key"
                                    },
                                    {
                                        "name": "Total with Tax"
                                    },
                                    {
                                        "name": "Total without Tax"
                                    },
                                    {
                                        "name": "Unit Price"
                                    },
                                    {
                                        "name": "Tax Rate"
                                    }
                                ]
                            },
                            "data": [
                                {
                                    "Stock Item Key": "5",
                                    "Total with Tax": "21838.50",
                                    "Total without Tax": "18990.00",
                                    "Unit Price": "1899.00",
                                    "Tax Rate": "15.000"
                                },
                                {
                                    "Stock Item Key": "56",
                                    "Total with Tax": "12880.00",
                                    "Total without Tax": "11200.00",
                                    "Unit Price": "112.00",
                                    "Tax Rate": "15.000"
                                },
                                {
                                    "Stock Item Key": "59",
                                    "Total with Tax": "12420.00",
                                    "Total without Tax": "10800.00",
                                    "Unit Price": "108.00",
                                    "Tax Rate": "15.000"
                                },
                                {
                                    "Stock Item Key": "62",
                                    "Total with Tax": "12075.00",
                                    "Total without Tax": "10500.00",
                                    "Unit Price": "105.00",
                                    "Tax Rate": "15.000"
                                },
                                {
                                    "Stock Item Key": "47",
                                    "Total with Tax": "12075.00",
                                    "Total without Tax": "10500.00",
                                    "Unit Price": "105.00",
                                    "Tax Rate": "15.000"
                                },
                                {
                                    "Stock Item Key": "50",
                                    "Total with Tax": "11730.00",
                                    "Total without Tax": "10200.00",
                                    "Unit Price": "102.00",
                                    "Tax Rate": "15.000"
                                },
                                {
                                    "Stock Item Key": "53",
                                    "Total with Tax": "11385.00",
                                    "Total without Tax": "9900.00",
                                    "Unit Price": "99.00",
                                    "Tax Rate": "15.000"
                                },
                                {
                                    "Stock Item Key": "1",
                                    "Total with Tax": "5750.00",
                                    "Total without Tax": "5000.00",
                                    "Unit Price": "50.00",
                                    "Tax Rate": "15.000"
                                },
                                {
                                    "Stock Item Key": "48",
                                    "Total with Tax": "5520.00",
                                    "Total without Tax": "4800.00",
                                    "Unit Price": "48.00",
                                    "Tax Rate": "15.000"
                                },
                                {
                                    "Stock Item Key": "51",
                                    "Total with Tax": "5175.00",
                                    "Total without Tax": "4500.00",
                                    "Unit Price": "45.00",
                                    "Tax Rate": "15.000"
                                },
                                {
                                    "Stock Item Key": "54",
                                    "Total with Tax": "4830.00",
                                    "Total without Tax": "4200.00",
                                    "Unit Price": "42.00",
                                    "Tax Rate": "15.000"
                                },
                                {
                                    "Stock Item Key": "2",
                                    "Total with Tax": "4312.50",
                                    "Total without Tax": "3750.00",
                                    "Unit Price": "37.50",
                                    "Tax Rate": "15.000"
                                },
                                {
                                    "Stock Item Key": "57",
                                    "Total with Tax": "4255.00",
                                    "Total without Tax": "3700.00",
                                    "Unit Price": "37.00",
                                    "Tax Rate": "15.000"
                                },
                                {
                                    "Stock Item Key": "145",
                                    "Total with Tax": "3967.50",
                                    "Total without Tax": "3450.00",
                                    "Unit Price": "345.00",
                                    "Tax Rate": "15.000"
                                },
                                {
                                    "Stock Item Key": "60",
                                    "Total with Tax": "3795.00",
                                    "Total without Tax": "3300.00",
                                    "Unit Price": "33.00",
                                    "Tax Rate": "15.000"
                                },
                                {
                                    "Stock Item Key": "17",
                                    "Total with Tax": "3680.00",
                                    "Total without Tax": "3200.00",
                                    "Unit Price": "32.00",
                                    "Tax Rate": "15.000"
                                },
                                {
                                    "Stock Item Key": "16",
                                    "Total with Tax": "3680.00",
                                    "Total without Tax": "3200.00",
                                    "Unit Price": "32.00",
                                    "Tax Rate": "15.000"
                                },
                                {
                                    "Stock Item Key": "49",
                                    "Total with Tax": "3680.00",
                                    "Total without Tax": "3200.00",
                                    "Unit Price": "32.00",
                                    "Tax Rate": "15.000"
                                },
                                {
                                    "Stock Item Key": "15",
                                    "Total with Tax": "3680.00",
                                    "Total without Tax": "3200.00",
                                    "Unit Price": "32.00",
                                    "Tax Rate": "15.000"
                                },
                                {
                                    "Stock Item Key": "63",
                                    "Total with Tax": "3450.00",
                                    "Total without Tax": "3000.00",
                                    "Unit Price": "30.00",
                                    "Tax Rate": "15.000"
                                }
                            ]
                        },
                        "text/html": [
                            "<table>",
                            "<tr><th>Stock Item Key</th><th>Total with Tax</th><th>Total without Tax</th><th>Unit Price</th><th>Tax Rate</th></tr>",
                            "<tr><td>5</td><td>21838.50</td><td>18990.00</td><td>1899.00</td><td>15.000</td></tr>",
                            "<tr><td>56</td><td>12880.00</td><td>11200.00</td><td>112.00</td><td>15.000</td></tr>",
                            "<tr><td>59</td><td>12420.00</td><td>10800.00</td><td>108.00</td><td>15.000</td></tr>",
                            "<tr><td>62</td><td>12075.00</td><td>10500.00</td><td>105.00</td><td>15.000</td></tr>",
                            "<tr><td>47</td><td>12075.00</td><td>10500.00</td><td>105.00</td><td>15.000</td></tr>",
                            "<tr><td>50</td><td>11730.00</td><td>10200.00</td><td>102.00</td><td>15.000</td></tr>",
                            "<tr><td>53</td><td>11385.00</td><td>9900.00</td><td>99.00</td><td>15.000</td></tr>",
                            "<tr><td>1</td><td>5750.00</td><td>5000.00</td><td>50.00</td><td>15.000</td></tr>",
                            "<tr><td>48</td><td>5520.00</td><td>4800.00</td><td>48.00</td><td>15.000</td></tr>",
                            "<tr><td>51</td><td>5175.00</td><td>4500.00</td><td>45.00</td><td>15.000</td></tr>",
                            "<tr><td>54</td><td>4830.00</td><td>4200.00</td><td>42.00</td><td>15.000</td></tr>",
                            "<tr><td>2</td><td>4312.50</td><td>3750.00</td><td>37.50</td><td>15.000</td></tr>",
                            "<tr><td>57</td><td>4255.00</td><td>3700.00</td><td>37.00</td><td>15.000</td></tr>",
                            "<tr><td>145</td><td>3967.50</td><td>3450.00</td><td>345.00</td><td>15.000</td></tr>",
                            "<tr><td>60</td><td>3795.00</td><td>3300.00</td><td>33.00</td><td>15.000</td></tr>",
                            "<tr><td>17</td><td>3680.00</td><td>3200.00</td><td>32.00</td><td>15.000</td></tr>",
                            "<tr><td>16</td><td>3680.00</td><td>3200.00</td><td>32.00</td><td>15.000</td></tr>",
                            "<tr><td>49</td><td>3680.00</td><td>3200.00</td><td>32.00</td><td>15.000</td></tr>",
                            "<tr><td>15</td><td>3680.00</td><td>3200.00</td><td>32.00</td><td>15.000</td></tr>",
                            "<tr><td>63</td><td>3450.00</td><td>3000.00</td><td>30.00</td><td>15.000</td></tr>",
                            "</table>"
                        ]
                    }
                }
            ],
            "execution_count": 12
        }
    ]
}