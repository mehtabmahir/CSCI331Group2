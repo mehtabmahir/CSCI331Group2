{
    "metadata": {
        "kernelspec": {
            "name": "SQL",
            "display_name": "SQL",
            "language": "sql"
        },
        "language_info": {
            "name": "sql",
            "version": ""
        }
    },
    "nbformat_minor": 2,
    "nbformat": 4,
    "cells": [
        {
            "cell_type": "markdown",
            "source": [
                "# SQL Query Propositions & Explanations - Mehtab Mahir\n",
                "\n",
                "Note: There was usage of LLMs, specifically OpenAI's o3 mini"
            ],
            "metadata": {
                "azdata_cell_guid": "8057db7b-1ace-4a47-a613-8ccf1ae5f1c8"
            },
            "attachments": {}
        },
        {
            "cell_type": "markdown",
            "source": [
                "## 1. High-Value Customers (More Than 5 Orders in 2016)"
            ],
            "metadata": {
                "azdata_cell_guid": "7b582b88-6349-413d-ae64-2135c43d8037"
            }
        },
        {
            "cell_type": "markdown",
            "source": [
                "**Explanation:** This query identifies customers who placed more than 5 orders in 2016. By counting the orders per customer and filtering out those with 5 or fewer orders, it highlights high-value customers who are likely more engaged and contribute significantly to overall sales."
            ],
            "metadata": {
                "azdata_cell_guid": "882f0585-d814-4613-ac53-794903b5275a"
            }
        },
        {
            "cell_type": "code",
            "source": [
                "SELECT \n    o.CustomerID, \n    COUNT(o.OrderID) AS TotalOrders\nFROM Sales.Orders AS o\nWHERE YEAR(o.OrderDate) = 2016\nGROUP BY o.CustomerID\nHAVING COUNT(o.OrderID) > 5  \nORDER BY TotalOrders DESC;"
            ],
            "metadata": {
                "language": "sql",
                "azdata_cell_guid": "9cde7e7c-669d-46e8-819f-5a4252bb6603"
            },
            "outputs": [],
            "execution_count": null
        },
        {
            "cell_type": "markdown",
            "source": [
                "## 2. Customers Who Placed the Most Orders in a Single Month (2016)"
            ],
            "metadata": {
                "azdata_cell_guid": "7bbb38a3-3fb6-43c0-ac35-c1c4765b5ebd"
            }
        },
        {
            "cell_type": "markdown",
            "source": [
                "**Explanation:** This query aggregates order counts by customer and month for the year 2016. By grouping the data by both `CustomerID` and the month of the order, it pinpoints which customers had a particularly busy month, suggesting periods of elevated purchasing activity."
            ],
            "metadata": {
                "azdata_cell_guid": "ad9c5b4a-59cd-49ea-89b4-669ea2541f23"
            }
        },
        {
            "cell_type": "code",
            "source": [
                "SELECT \n    o.CustomerID, \n    MONTH(o.OrderDate) AS OrderMonth,\n    COUNT(o.OrderID) AS OrdersInMonth\nFROM Sales.Orders AS o\nWHERE YEAR(o.OrderDate) = 2016\nGROUP BY o.CustomerID, MONTH(o.OrderDate)\nORDER BY OrdersInMonth DESC;"
            ],
            "metadata": {
                "language": "sql",
                "azdata_cell_guid": "653db8d5-676c-4457-bec1-c372c1aaa0c4"
            },
            "outputs": [],
            "execution_count": null
        },
        {
            "cell_type": "markdown",
            "source": [
                "## 3. Customers Who Placed Orders in At Least 6 Different Months (2015)"
            ],
            "metadata": {
                "azdata_cell_guid": "ef208c8f-c0be-4fba-b3ef-96b9a225f625"
            }
        },
        {
            "cell_type": "markdown",
            "source": [
                "**Explanation:** This query calculates the number of distinct months in which each customer placed an order during 2015. It then filters for those with orders in more than 6 months, thereby identifying customers with consistent buying behavior throughout a significant portion of the year."
            ],
            "metadata": {
                "azdata_cell_guid": "29351fc8-b66b-4eae-8245-4d7a15d84d72"
            }
        },
        {
            "cell_type": "code",
            "source": [
                "SELECT \n    o.CustomerID, \n    COUNT(DISTINCT MONTH(o.OrderDate)) AS MonthsWithOrders\nFROM Sales.Orders AS o\nWHERE YEAR(o.OrderDate) = 2015\nGROUP BY o.CustomerID\nHAVING COUNT(DISTINCT MONTH(o.OrderDate)) > 6  \nORDER BY o.CustomerID;"
            ],
            "metadata": {
                "language": "sql",
                "azdata_cell_guid": "dc3b3e16-7b8f-4d0c-b418-fac7f0174b5c"
            },
            "outputs": [],
            "execution_count": null
        },
        {
            "cell_type": "markdown",
            "source": [
                "## 4. Customers With the Highest Total Orders Value in 2016"
            ],
            "metadata": {
                "azdata_cell_guid": "8f13eee9-a553-490d-8cd1-1c22244d34ec"
            }
        },
        {
            "cell_type": "markdown",
            "source": [
                "**Explanation:** This query aggregates the total number of orders placed by each customer in 2016 and orders the results in descending order. Although it counts the number of orders (rather than the monetary value), it serves as a proxy for identifying customers who are purchasing the most overall, thereby reflecting a high total order value."
            ],
            "metadata": {
                "azdata_cell_guid": "be8e2ce3-d6da-432a-a740-55cc412c95d5"
            }
        },
        {
            "cell_type": "code",
            "source": [
                "SELECT \n    o.CustomerID, \n    COUNT(o.OrderID) AS TotalOrders\nFROM Sales.Orders AS o\nWHERE YEAR(o.OrderDate) = 2016\nGROUP BY o.CustomerID\nORDER BY TotalOrders DESC;"
            ],
            "metadata": {
                "language": "sql",
                "azdata_cell_guid": "c6bf8907-57c1-485f-856d-415ce971a941"
            },
            "outputs": [],
            "execution_count": null
        },
        {
            "cell_type": "markdown",
            "source": [
                "## 5. Customers With the Highest Number of Orders on a Single Day in 2016"
            ],
            "metadata": {
                "azdata_cell_guid": "26bbbf1b-4106-4c53-b8c7-2569fd6762eb"
            }
        },
        {
            "cell_type": "markdown",
            "source": [
                "**Explanation:** This query first calculates the number of orders placed by each customer on each day in 2016. It then finds the maximum daily order count for each customer, revealing those who had days of exceptionally high activity—potentially indicating bulk orders or repeated purchases on a single day."
            ],
            "metadata": {
                "azdata_cell_guid": "d5585de4-ff5d-4995-973d-197e8d484cb4"
            }
        },
        {
            "cell_type": "code",
            "source": [
                "SELECT \n    o.CustomerID, \n    MAX(OrderCount) AS MaxOrdersInOneDay\nFROM ( \n    SELECT \n        CustomerID, \n        OrderDate, \n        COUNT(OrderID) AS OrderCount\n    FROM Sales.Orders\n    WHERE YEAR(OrderDate) = 2016\n    GROUP BY CustomerID, OrderDate\n) AS DailyOrders\nGROUP BY CustomerID\nORDER BY MaxOrdersInOneDay DESC;"
            ],
            "metadata": {
                "language": "sql",
                "azdata_cell_guid": "717d6037-c220-4030-a128-cc87c814ca54"
            },
            "outputs": [],
            "execution_count": null
        },
        {
            "cell_type": "markdown",
            "source": [
                "## 6. Customers With the Longest Time Between Orders in 2016"
            ],
            "metadata": {
                "azdata_cell_guid": "b28440aa-8c1d-44df-935a-cbee0e932f3e"
            }
        },
        {
            "cell_type": "markdown",
            "source": [
                "**Explanation:** This query computes the gap in days between the earliest and latest order dates for each customer during 2016. It highlights customers with the longest intervals between orders, which might indicate less frequent purchasing or significant changes in buying behavior throughout the year."
            ],
            "metadata": {
                "azdata_cell_guid": "b269fce0-8306-4c8b-bc23-37a919302a17"
            }
        },
        {
            "cell_type": "code",
            "source": [
                "SELECT \n    o.CustomerID, \n    DATEDIFF(DAY, MIN(o.OrderDate), MAX(o.OrderDate)) AS DaysBetweenFirstAndLastOrder\nFROM Sales.Orders AS o\nWHERE YEAR(o.OrderDate) = 2016\nGROUP BY o.CustomerID\nORDER BY DaysBetweenFirstAndLastOrder DESC;"
            ],
            "metadata": {
                "language": "sql",
                "azdata_cell_guid": "233aca62-8b05-4405-bd66-191e2fa62404"
            },
            "outputs": [],
            "execution_count": null
        },
        {
            "cell_type": "markdown",
            "source": [
                "## 7. Most Common Order Date in 2016"
            ],
            "metadata": {
                "azdata_cell_guid": "9cb4f27d-6629-43c7-8315-e038521ec611"
            }
        },
        {
            "cell_type": "markdown",
            "source": [
                "**Explanation:** This query groups all orders by their date in 2016 and counts the number of orders for each date. Sorting the results in descending order by the count helps identify the specific day when the highest number of orders were placed, indicating peak ordering activity."
            ],
            "metadata": {
                "azdata_cell_guid": "71845054-a126-4a48-b0ca-f0ccb414868e"
            }
        },
        {
            "cell_type": "code",
            "source": [
                "SELECT \n    o.OrderDate, \n    COUNT(o.OrderID) AS OrderCount\nFROM Sales.Orders AS o\nWHERE YEAR(o.OrderDate) = 2016\nGROUP BY o.OrderDate\nORDER BY OrderCount DESC;"
            ],
            "metadata": {
                "language": "sql",
                "azdata_cell_guid": "0ee03a47-23be-44de-8645-7f2bc2c9c306"
            },
            "outputs": [],
            "execution_count": null
        },
        {
            "cell_type": "markdown",
            "source": [
                "## 8. Customers Who Placed Orders in Every Year"
            ],
            "metadata": {
                "azdata_cell_guid": "93734006-bc30-46fc-b968-4acbd1929124"
            }
        },
        {
            "cell_type": "markdown",
            "source": [
                "**Explanation:** This query checks each customer’s order history across all available years in the dataset. It compares the number of distinct years in which a customer has made an order to the total number of distinct years present in the Sales.Orders table. Customers meeting this criterion have been consistently active, placing at least one order in every year."
            ],
            "metadata": {
                "azdata_cell_guid": "1b8e99a4-b493-4f24-9ea8-e0aeb3e29635"
            }
        },
        {
            "cell_type": "code",
            "source": [
                "SELECT CustomerID\nFROM Sales.Orders\nGROUP BY CustomerID\nHAVING COUNT(DISTINCT YEAR(OrderDate)) = (SELECT COUNT(DISTINCT YEAR(OrderDate)) FROM Sales.Orders);"
            ],
            "metadata": {
                "language": "sql",
                "azdata_cell_guid": "84b9f5ae-88ea-43c2-87b0-efe0582b40ef"
            },
            "outputs": [],
            "execution_count": null
        },
        {
            "cell_type": "markdown",
            "source": [
                "## 9. Largest Streak of Orders in Consecutive Days (2016)"
            ],
            "metadata": {
                "azdata_cell_guid": "ae8e5637-0e80-45b2-b7cf-14d914957c05"
            }
        },
        {
            "cell_type": "markdown",
            "source": [
                "**Explanation:** This multi-step query determines the longest sequence of consecutive order days for each customer in 2016. It first assigns a row number to each order and then uses the difference between two row numbers (one based on the order date and one adjusted by a constant reference date) to group orders into consecutive-day streaks. In subsequent steps, it calculates the length of each streak and ultimately selects the maximum streak per customer, ordering the results from longest to shortest streak."
            ],
            "metadata": {
                "azdata_cell_guid": "37f7dd36-9588-40e6-8dd8-8d87b056b2b1"
            }
        },
        {
            "cell_type": "code",
            "source": [
                "WITH RankedOrders AS ( \n    SELECT \n        CustomerID,\n        OrderDate,\n        ROW_NUMBER() OVER (PARTITION BY CustomerID ORDER BY OrderDate) - \n        ROW_NUMBER() OVER (PARTITION BY CustomerID ORDER BY DATEDIFF(DAY, '1900-01-01', OrderDate)) AS StreakGroup\n    FROM Sales.Orders\n    WHERE YEAR(OrderDate) = 2016\n),\nStreaks AS (\n    SELECT \n        CustomerID, \n        COUNT(OrderDate) AS StreakLength\n    FROM RankedOrders\n    GROUP BY CustomerID, StreakGroup\n)\nSELECT CustomerID, MAX(StreakLength) AS MaxStreak\nFROM Streaks\nGROUP BY CustomerID\nORDER BY MaxStreak DESC;"
            ],
            "metadata": {
                "language": "sql",
                "azdata_cell_guid": "f20ae88b-3e82-4613-8fab-9095aa36fc9f"
            },
            "outputs": [],
            "execution_count": null
        },
        {
            "cell_type": "markdown",
            "source": [
                "## 10. First Order Date for Each Customer (2016)"
            ],
            "metadata": {
                "azdata_cell_guid": "a47411b3-1cab-4ae7-8977-6738fe2ea52a"
            }
        },
        {
            "cell_type": "markdown",
            "source": [
                "**Explanation:** This query finds the first time each customer placed an order in 2016 by grouping the orders by `CustomerID` and selecting the earliest order date. Sorting these dates in ascending order helps in understanding the timeline of customer engagement and identifying when each customer first began ordering during the year."
            ],
            "metadata": {
                "azdata_cell_guid": "4df1b033-21bb-42b6-adaf-beea14b9e672"
            }
        },
        {
            "cell_type": "code",
            "source": [
                "SELECT \n    o.CustomerID, \n    MIN(o.OrderDate) AS FirstOrderDate\nFROM Sales.Orders AS o\nWHERE YEAR(o.OrderDate) = 2016\nGROUP BY o.CustomerID\nORDER BY FirstOrderDate;"
            ],
            "metadata": {
                "language": "sql",
                "azdata_cell_guid": "b82fe837-fbf2-4ddf-88bb-198f156a69c4"
            },
            "outputs": [],
            "execution_count": null
        }
    ]
}